{
 "cells": [
  {
   "cell_type": "code",
   "execution_count": null,
   "id": "ebc0d2f3",
   "metadata": {},
   "outputs": [],
   "source": [
    "#Write a program,  my age is more than 20 print teen_age other wise print younge_age?"
   ]
  },
  {
   "cell_type": "code",
   "execution_count": 3,
   "id": "9ce7693d",
   "metadata": {},
   "outputs": [
    {
     "name": "stdout",
     "output_type": "stream",
     "text": [
      "you are young_age your age is : 18 your age is less than 20\n"
     ]
    }
   ],
   "source": [
    "age = 18 #who am i?\n",
    "if age > 20:\n",
    "    print(\"you are teen_age\",age,\"your age is more than 20\")\n",
    "else :\n",
    "    print (\"you are young_age\",\"your age is :\",age, \"your age is less than 20\")"
   ]
  },
  {
   "cell_type": "code",
   "execution_count": 51,
   "id": "12006eb7",
   "metadata": {},
   "outputs": [],
   "source": [
    "\n",
    "\n",
    "variable operator value\n"
   ]
  },
  {
   "cell_type": "code",
   "execution_count": 52,
   "id": "c7da5c05",
   "metadata": {},
   "outputs": [
    {
     "name": "stdout",
     "output_type": "stream",
     "text": [
      "week_days\n"
     ]
    }
   ],
   "source": [
    "day = [\"monday\", \"tuesday\", \"wednesday\", \"thursday\", \"friday\"]\n",
    "if day :\n",
    "    print (\"week_days\")\n",
    "else:\n",
    "    print (\"weekend_days\")"
   ]
  },
  {
   "cell_type": "code",
   "execution_count": 55,
   "id": "7f27562d",
   "metadata": {},
   "outputs": [
    {
     "name": "stdout",
     "output_type": "stream",
     "text": [
      "weekday\n"
     ]
    }
   ],
   "source": [
    "# Test1:\n",
    "\n",
    "day=\"thurday\"\n",
    "\n",
    "md=\"Monday\"\n",
    "td=\"tueday\"\n",
    "\n",
    "if day==md:\n",
    "    print(\"weekday\")\n",
    "elif day==\"tuesday\":\n",
    "    print(\"weekday\")\n",
    "elif day==\"wendsday\":\n",
    "    print(\"weekday\")\n",
    "elif day==\"thurday\":\n",
    "    print(\"weekday\")\n",
    "elif day==\"friday\":\n",
    "    print(\"weekday\")\n",
    "else:\n",
    "    print(\"weekend\")\n",
    "    \n",
    "    \n",
    "    \n",
    "    \n",
    "    "
   ]
  },
  {
   "cell_type": "code",
   "execution_count": null,
   "id": "fa31a1cd",
   "metadata": {},
   "outputs": [],
   "source": []
  },
  {
   "cell_type": "code",
   "execution_count": null,
   "id": "90e0f241",
   "metadata": {},
   "outputs": [],
   "source": [
    "# Test2:\n",
    "\n",
    "day=\"sunday\"\n",
    "\n",
    "if day==md:\n",
    "    print(\"weekday\")\n",
    "elif day==\"tuesday\":\n",
    "    print(\"weekday\")\n",
    "elif day==\"wendsday\":\n",
    "    print(\"weekday\")\n",
    "elif day==\"thurday\":\n",
    "    print(\"weekday\")\n",
    "elif day==\"friday\":\n",
    "    print(\"weekday\")\n",
    "else:\n",
    "    print(\"weekend\")\n",
    "    \n",
    "    \n",
    "    \n",
    "    \n",
    "    "
   ]
  },
  {
   "cell_type": "code",
   "execution_count": null,
   "id": "a21427df",
   "metadata": {},
   "outputs": [],
   "source": [
    "# Test2:\n",
    "\n",
    "day=\"sunday\"\n",
    "\n",
    "if day==md:\n",
    "    print(\"weekday\")\n",
    "elif day==\"tuesday\":\n",
    "    print(\"weekday\")\n",
    "elif day==\"wendsday\":\n",
    "    print(\"weekday\")\n",
    "elif day==\"thurday\":\n",
    "    print(\"weekday\")\n",
    "elif day==\"friday\":\n",
    "    print(\"weekday\")\n",
    "else:\n",
    "    print(\"weekend\")\n",
    "    \n",
    "    \n",
    "    \n",
    "    \n",
    "    "
   ]
  },
  {
   "cell_type": "code",
   "execution_count": null,
   "id": "c3c2799b",
   "metadata": {},
   "outputs": [],
   "source": [
    "#Scenario1: Today my business income is 10/- if my income is more than 10/- then print \"i am profitable\" otherwise print \"i lost\""
   ]
  },
  {
   "cell_type": "code",
   "execution_count": 57,
   "id": "e2563c42",
   "metadata": {},
   "outputs": [
    {
     "name": "stdout",
     "output_type": "stream",
     "text": [
      "i am prifitable\n"
     ]
    }
   ],
   "source": [
    "income = 10\n",
    "if income >10:\n",
    "    print (\"i am prifitable\")\n",
    "else:\n",
    "    print (\"i lost\")"
   ]
  },
  {
   "cell_type": "code",
   "execution_count": null,
   "id": "005a2323",
   "metadata": {},
   "outputs": [],
   "source": [
    "#Scenario2: your age is more than your sister age then print \"i am elder\" otherwise print \"i am younger\""
   ]
  },
  {
   "cell_type": "code",
   "execution_count": 58,
   "id": "7cb2ba8f",
   "metadata": {},
   "outputs": [
    {
     "name": "stdout",
     "output_type": "stream",
     "text": [
      "i am younger\n"
     ]
    }
   ],
   "source": [
    "age = 20\n",
    "if age <30:\n",
    "    print(\"i am younger\")\n",
    "else:\n",
    "    print(\"i am elder\")"
   ]
  },
  {
   "cell_type": "code",
   "execution_count": null,
   "id": "8f0a1c57",
   "metadata": {},
   "outputs": [],
   "source": [
    "#Scenario3:festival offer in my shop. \n",
    "#purchase amount more than 100 then print 30% discount.\n",
    "#purchase amount less than 50 then print 10% discount \n",
    "#otherwise print 20% discount.\t"
   ]
  },
  {
   "cell_type": "code",
   "execution_count": 69,
   "id": "9a71be60",
   "metadata": {},
   "outputs": [
    {
     "name": "stdout",
     "output_type": "stream",
     "text": [
      "disc 14.0\n",
      "final amount 56.0\n"
     ]
    }
   ],
   "source": [
    "\n",
    "billamount=70\n",
    "\n",
    "if billamount >100:\n",
    "    disc=billamount*.30\n",
    "    print(\"disc\",disc)\n",
    "    final_amt=billamount-disc\n",
    "    print(\"final amount\",final_amt)\n",
    "elif billamount<50:\n",
    "    disc=billamount*.1\n",
    "    print(\"disc\",disc)\n",
    "    final_amt=billamount-disc\n",
    "    print(\"final amount\",final_amt)\n",
    "    print\n",
    "else:\n",
    "    disc=billamount *  .20\n",
    "    print(\"disc\",disc)\n",
    "    final_amt=billamount-disc\n",
    "    print(\"final amount\",final_amt)\n",
    "    \n",
    "    \n",
    "\n"
   ]
  },
  {
   "cell_type": "code",
   "execution_count": 1,
   "id": "ec9cfdf7",
   "metadata": {},
   "outputs": [
    {
     "name": "stdout",
     "output_type": "stream",
     "text": [
      "disc 60.0\n",
      "final amount 140.0\n"
     ]
    }
   ],
   "source": [
    "billamount=200\n",
    "\n",
    "if billamount >100:\n",
    "    disc=billamount*.30\n",
    "    print(\"disc\",disc)\n",
    "    final_amt=billamount-disc\n",
    "    print(\"final amount\",final_amt)\n",
    "elif billamount<50:\n",
    "    disc=billamount*.1\n",
    "    print(\"disc\",disc)\n",
    "    final_amt=billamount-disc\n",
    "    print(\"final amount\",final_amt)\n",
    "    print\n",
    "else:\n",
    "    disc=billamount *  .20\n",
    "    print(\"disc\",disc)\n",
    "    final_amt=billamount-disc\n",
    "    print(\"final amount\",final_amt)\n",
    "    "
   ]
  },
  {
   "cell_type": "code",
   "execution_count": null,
   "id": "dd8beb2f",
   "metadata": {},
   "outputs": [],
   "source": [
    "# Scenario4:my movie theater prices. price is 140 print balcony. price is 50 print chair. price is 100 print bench"
   ]
  },
  {
   "cell_type": "code",
   "execution_count": 4,
   "id": "01dbb98d",
   "metadata": {},
   "outputs": [
    {
     "name": "stdout",
     "output_type": "stream",
     "text": [
      "enter amount:100\n"
     ]
    }
   ],
   "source": [
    "ticket = int(input(\"enter amount:\"))"
   ]
  },
  {
   "cell_type": "code",
   "execution_count": 5,
   "id": "b0e9b788",
   "metadata": {},
   "outputs": [
    {
     "name": "stdout",
     "output_type": "stream",
     "text": [
      "bench\n"
     ]
    }
   ],
   "source": [
    "if ticket==160:\n",
    "    print(\"balcony\")\n",
    "if ticket ==50:\n",
    "    print (\"chair\")\n",
    "if ticket == 100:\n",
    "    print(\"bench\")"
   ]
  },
  {
   "cell_type": "code",
   "execution_count": null,
   "id": "f7cc1770",
   "metadata": {},
   "outputs": [],
   "source": [
    "#my showroom vehicle types. \n",
    "#Scenario5: my showroom vehicle types. \n",
    "#if vehicle type is two wheeler print bike and scooty. \n",
    "#if vehicle type is four wheeler print car, loory, van and zeep"
   ]
  },
  {
   "cell_type": "code",
   "execution_count": 6,
   "id": "eb841c04",
   "metadata": {},
   "outputs": [
    {
     "name": "stdout",
     "output_type": "stream",
     "text": [
      "Enter your vehical type:two wheeler\n"
     ]
    }
   ],
   "source": [
    "vehical_type= str(input(\"Enter your vehical type:\"))"
   ]
  },
  {
   "cell_type": "code",
   "execution_count": 7,
   "id": "d5ab2cc6",
   "metadata": {},
   "outputs": [
    {
     "name": "stdout",
     "output_type": "stream",
     "text": [
      "bike scooty\n"
     ]
    }
   ],
   "source": [
    "if vehical_type == \"two wheeler\":\n",
    "    print(\"bike\", \"scooty\")\n",
    "if vehical_type == \"four wheeler\":\n",
    "    print (\"car\", \"loory\", \"van\", \"zeep\")"
   ]
  },
  {
   "cell_type": "code",
   "execution_count": null,
   "id": "9b527164",
   "metadata": {},
   "outputs": [],
   "source": []
  }
 ],
 "metadata": {
  "kernelspec": {
   "display_name": "Python 3 (ipykernel)",
   "language": "python",
   "name": "python3"
  },
  "language_info": {
   "codemirror_mode": {
    "name": "ipython",
    "version": 3
   },
   "file_extension": ".py",
   "mimetype": "text/x-python",
   "name": "python",
   "nbconvert_exporter": "python",
   "pygments_lexer": "ipython3",
   "version": "3.10.9"
  }
 },
 "nbformat": 4,
 "nbformat_minor": 5
}
